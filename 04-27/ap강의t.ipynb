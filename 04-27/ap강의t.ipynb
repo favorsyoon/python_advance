{
 "cells": [
  {
   "attachments": {},
   "cell_type": "markdown",
   "metadata": {},
   "source": [
    "## 서울 아파트 분양가 분석"
   ]
  },
  {
   "cell_type": "code",
   "execution_count": null,
   "metadata": {},
   "outputs": [],
   "source": [
    "# library import\n",
    "import pandas as pd\n",
    "import numpy as np\n",
    "import matplotlib.pyplot as plt"
   ]
  },
  {
   "cell_type": "code",
   "execution_count": null,
   "metadata": {},
   "outputs": [],
   "source": [
    "# csv read\n",
    "first_file_name = '전국 평균 분양가격(2013년 9월부터 2015년 8월까지).csv' #2013~2015.08\n",
    "last_file_name = '주택도시보증공사_전국 평균 분양가격(2019년 12월).csv' #2015.09~2019.12\n",
    "\n",
    "df_first = pd.read_csv(first_file_name, encoding=\"euc-kr\") # utf-8\n",
    "df_last = pd.read_csv(last_file_name, encoding=\"euc-kr\")\n",
    "\n",
    "display(df_first, df_last)"
   ]
  },
  {
   "cell_type": "code",
   "execution_count": null,
   "metadata": {},
   "outputs": [],
   "source": [
    "df_first.info()"
   ]
  },
  {
   "cell_type": "code",
   "execution_count": null,
   "metadata": {},
   "outputs": [],
   "source": [
    "df_last.info()"
   ]
  },
  {
   "cell_type": "code",
   "execution_count": null,
   "metadata": {},
   "outputs": [],
   "source": [
    "df_last.isna().sum()"
   ]
  },
  {
   "cell_type": "code",
   "execution_count": null,
   "metadata": {},
   "outputs": [],
   "source": [
    "df_last['분양가격'] = pd.to_numeric(df_last['분양가격(㎡)'], errors='coerce')\n",
    "\n",
    "# errors\n",
    "# - ignore: 변경할 수 없는 데이터면 -> 원본 데이터 그대로 반환\n",
    "# - coerce: 변경할 수 없는 데이터면 -> NaN 으로 반환.\n",
    "# - raise: numeric으로 변경할 수 없는 경우 오류가 발생하며 작업 중단"
   ]
  },
  {
   "cell_type": "code",
   "execution_count": null,
   "metadata": {},
   "outputs": [],
   "source": [
    "df_last['평당분양가격'] = df_last['분양가격'] * 3.3 # (1평=> 3.3m2)"
   ]
  },
  {
   "cell_type": "code",
   "execution_count": null,
   "metadata": {},
   "outputs": [],
   "source": [
    "df_last.head(5)"
   ]
  },
  {
   "cell_type": "code",
   "execution_count": null,
   "metadata": {},
   "outputs": [],
   "source": [
    "df_first.head(5)"
   ]
  },
  {
   "cell_type": "code",
   "execution_count": null,
   "metadata": {},
   "outputs": [],
   "source": [
    "df_last['분양가격'].describe()"
   ]
  },
  {
   "cell_type": "code",
   "execution_count": null,
   "metadata": {},
   "outputs": [],
   "source": [
    "df_last['규모구분'].unique()"
   ]
  },
  {
   "cell_type": "code",
   "execution_count": null,
   "metadata": {},
   "outputs": [],
   "source": [
    "# 규모구분 데이터에서 \n",
    "# (1) 전용면적,이하 문자열을 제거하고\n",
    "# (2) 초과 문자열을 ~로 변경\n",
    "# (3) 빈 문자열 제거\n",
    "# array(['전체', '60㎡', '60㎡~85㎡', '85㎡~102㎡', '102㎡~'], dtype=object)\n",
    "\n",
    "df_last['전용면적'] = df_last['규모구분'].str.replace(\"전용면적\", \"\")\n",
    "df_last['전용면적'] = df_last['전용면적'].str.replace(\"이하\", \"\")\n",
    "df_last['전용면적'] = df_last['전용면적'].str.replace(\"초과\", \"~\")\n",
    "df_last['전용면적'] = df_last['전용면적'].str.replace(\" \", \"\")\n",
    "\n",
    "df_last['전용면적']"
   ]
  },
  {
   "cell_type": "code",
   "execution_count": null,
   "metadata": {},
   "outputs": [],
   "source": [
    "df_last = df_last.drop(['분양가격(㎡)', '규모구분'], axis=1)\n",
    "df_last"
   ]
  },
  {
   "cell_type": "code",
   "execution_count": null,
   "metadata": {},
   "outputs": [],
   "source": [
    "# 지역별 평당분양가격의 기술통계값을 보고싶다.\n",
    "df_last.groupby([\"지역명\"])['평당분양가격'].describe()"
   ]
  },
  {
   "cell_type": "code",
   "execution_count": null,
   "metadata": {},
   "outputs": [],
   "source": [
    "# 전용면적별 평당분양가격의 평균값은 어떻게 될까?\n",
    "df_last.groupby(['전용면적'])['평당분양가격'].mean()"
   ]
  },
  {
   "cell_type": "code",
   "execution_count": null,
   "metadata": {},
   "outputs": [],
   "source": [
    "# 지역별 전용면적의 평당분양가격 평균값을 df로 나타내시오.\n",
    "df_last.groupby(['지역명', '전용면적'])['평당분양가격'].mean().unstack()"
   ]
  },
  {
   "cell_type": "code",
   "execution_count": null,
   "metadata": {},
   "outputs": [],
   "source": [
    "# 지역명이 인덱스, 연도별이 컬럼 -> 연도별 평당 분양가격의 평균값은?\n",
    "\n",
    "df_last.groupby(['연도', '지역명'])['평당분양가격'].mean().unstack().transpose()"
   ]
  },
  {
   "cell_type": "code",
   "execution_count": null,
   "metadata": {},
   "outputs": [],
   "source": [
    "df_last_pivot = pd.pivot_table(df_last, index=['전용면적'], columns=['연도'], values=['평당분양가격'])"
   ]
  },
  {
   "cell_type": "code",
   "execution_count": null,
   "metadata": {},
   "outputs": [],
   "source": [
    "df_last_pivot['평당분양가격'][2015]"
   ]
  },
  {
   "cell_type": "code",
   "execution_count": null,
   "metadata": {},
   "outputs": [],
   "source": [
    "plt.rcParams['font.family'] = \"AppleGothic\" # Mac"
   ]
  },
  {
   "cell_type": "code",
   "execution_count": null,
   "metadata": {},
   "outputs": [],
   "source": [
    "df_last.groupby(['전용면적'])['평당분양가격'].mean().sort_values().plot.bar()"
   ]
  },
  {
   "cell_type": "code",
   "execution_count": null,
   "metadata": {},
   "outputs": [],
   "source": [
    "df_last.groupby(['연도'])['평당분양가격'].mean().plot()"
   ]
  },
  {
   "cell_type": "code",
   "execution_count": null,
   "metadata": {},
   "outputs": [],
   "source": [
    "df_last.pivot_table(index='월', columns=['연도', '전용면적'], values='평당분양가격').plot.box()"
   ]
  },
  {
   "cell_type": "code",
   "execution_count": null,
   "metadata": {},
   "outputs": [],
   "source": [
    "# 연도별 월에 따른 평당분양가격 변화 추이\n",
    "df_last.pivot_table(index=\"월\", columns=[\"연도\"], values=\"평당분양가격\").plot(figsize=(20,5), rot=90)"
   ]
  },
  {
   "cell_type": "code",
   "execution_count": null,
   "metadata": {},
   "outputs": [],
   "source": [
    "import seaborn as sns"
   ]
  },
  {
   "cell_type": "code",
   "execution_count": null,
   "metadata": {},
   "outputs": [],
   "source": [
    "df_last_sorted = df_last.sort_values(by='평당분양가격', ascending=False)\n",
    "sns.barplot(data=df_last_sorted, x='지역명', y=\"평당분양가격\")"
   ]
  },
  {
   "cell_type": "code",
   "execution_count": null,
   "metadata": {},
   "outputs": [],
   "source": [
    "sns.boxplot(data=df_last, x=\"연도\", y=\"평당분양가격\", hue=\"전용면적\")"
   ]
  },
  {
   "cell_type": "code",
   "execution_count": null,
   "metadata": {},
   "outputs": [],
   "source": [
    "max_price = df_last['평당분양가격'].max()"
   ]
  },
  {
   "cell_type": "code",
   "execution_count": null,
   "metadata": {},
   "outputs": [],
   "source": [
    "df_last[df_last['평당분양가격'] == max_price]"
   ]
  },
  {
   "cell_type": "code",
   "execution_count": null,
   "metadata": {},
   "outputs": [],
   "source": [
    "df_first"
   ]
  },
  {
   "cell_type": "code",
   "execution_count": null,
   "metadata": {},
   "outputs": [],
   "source": [
    "df_first"
   ]
  },
  {
   "cell_type": "code",
   "execution_count": null,
   "metadata": {},
   "outputs": [],
   "source": [
    "df_last"
   ]
  },
  {
   "cell_type": "code",
   "execution_count": null,
   "metadata": {},
   "outputs": [],
   "source": [
    "# 가로 방향의 데이터 프레임 => 세로 방향으로 전환\n",
    "df_first_melt = df_first.melt(id_vars='지역', var_name='기간', value_name=\"평당분양가격\")\n",
    "df_first_melt"
   ]
  },
  {
   "cell_type": "code",
   "execution_count": null,
   "metadata": {},
   "outputs": [],
   "source": [
    "# 2013년1월\n",
    "# 2013년2월\n",
    "\n",
    "date = \"2013년12월\"\n",
    "\n",
    "# 숫자 데이터만 표현\n",
    "year = date.split(\"년\")[0]\n",
    "\n",
    "month = date.split(\"년\")[1].replace(\"월\", \"\")\n",
    "print(year, month)"
   ]
  },
  {
   "cell_type": "code",
   "execution_count": null,
   "metadata": {},
   "outputs": [],
   "source": [
    "def parse_year(date):\n",
    "    year = date.split(\"년\")[0]\n",
    "    return year\n",
    "\n",
    "def parse_month(date):\n",
    "    month = date.split(\"년\")[1].replace(\"월\", \"\")\n",
    "    return month"
   ]
  },
  {
   "cell_type": "code",
   "execution_count": null,
   "metadata": {},
   "outputs": [],
   "source": [
    "# 기간 컬럼에서 => 년, 월로 데이터를 각각 컬럼 별로 분리\n",
    "df_first_melt['연도'] = df_first_melt['기간'].apply(parse_year)\n",
    "df_first_melt['월'] = df_first_melt['기간'].apply(parse_month)"
   ]
  },
  {
   "cell_type": "code",
   "execution_count": null,
   "metadata": {},
   "outputs": [],
   "source": [
    "# df_last에서 전용면적이 '전체'인 데이터만 가져오시오.\n",
    "# 단, 컬럼은 지역명, 연도, 월, 평당분양가격만 가져오시오.\n",
    "df_last[df_last['전용면적'] == \"전체\"][['지역명', '연도', '월', '평당분양가격']]\n",
    "\n",
    "df_last_prepare = df_last.loc[df_last['전용면적'] == \"전체\", ['지역명', '연도', '월', '평당분양가격']]\n",
    "\n",
    "df_last_prepare"
   ]
  },
  {
   "cell_type": "code",
   "execution_count": null,
   "metadata": {},
   "outputs": [],
   "source": [
    "df_first_melt"
   ]
  },
  {
   "cell_type": "code",
   "execution_count": null,
   "metadata": {},
   "outputs": [],
   "source": []
  }
 ],
 "metadata": {
  "kernelspec": {
   "display_name": "base",
   "language": "python",
   "name": "python3"
  },
  "language_info": {
   "codemirror_mode": {
    "name": "ipython",
    "version": 3
   },
   "file_extension": ".py",
   "mimetype": "text/x-python",
   "name": "python",
   "nbconvert_exporter": "python",
   "pygments_lexer": "ipython3",
   "version": "3.10.9"
  },
  "orig_nbformat": 4
 },
 "nbformat": 4,
 "nbformat_minor": 2
}
