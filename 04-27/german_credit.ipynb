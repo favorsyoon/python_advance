{
 "cells": [
  {
   "attachments": {},
   "cell_type": "markdown",
   "metadata": {},
   "source": [
    "# German Credit data\n",
    "\n",
    "- 신용평가 모델\n",
    "- 대출 신청자 1000명의 샘플데이터 => 실제 대출 승인여부 (good, bad)\n",
    "\n",
    "\n",
    "- https://www.kaggle.com/datasets/uciml/german-credit\n",
    "\n",
    "- https://www.kaggle.com/datasets/uciml/german-credit?resource=download\n",
    "\n",
    "- Age: 나이 \n",
    "- Sex: 성별\n",
    "- Job: 직업\n",
    "- Housing: 거주 형태(자가, 임대, 무상거주)\n",
    "- Saving accounts: 저축 계좌 잔고\n",
    "- Checking account: 입출금 계좌 잔고\n",
    "- Credit amount: 대출 금액\n",
    "- Duration: 대출 기간\n",
    "- Purpose: 대출 목적\n",
    "- Risk: 대출 위험도(상환 불이행 가능성)\n",
    "- \n",
    "- Age (numeric)\n",
    "- Sex (text: male, female)\n",
    "- Job (numeric: 0 - unskilled and non-resident, 1 - unskilled and resident, 2 - skilled, 3 - highly skilled)\n",
    "- Housing (text: own, rent, or free)\n",
    "- Saving accounts (text - little, moderate, quite rich, rich)\n",
    "- Checking account (numeric, in DM - Deutsch Mark)\n",
    "- Credit amount (numeric, in DM)\n",
    "- Duration (numeric, in month)\n",
    "- Purpose(text: car, furniture/equipment, radio/TV, domestic appliances, repairs, education, business, vacation/others\n",
    "- Risk (Value target - Good or Bad Risk)"
   ]
  },
  {
   "attachments": {},
   "cell_type": "markdown",
   "metadata": {},
   "source": [
    "# German credit data\n",
    "\n",
    "신용평가모델\n",
    "\n",
    "-대출 신청자 1000명의 샘플 데이터 => 실제 대출 승인여부 (good, bad)\n",
    "\n",
    "It is worse to class a customer as good when they are bad,\n",
    "than it is to class a customer as bad when they are good.\n",
    "\n",
    "분석의 목적:\n",
    "- 고객 데이터를 기반으로 => 이 사람의 대출 승인 여부를 판단하는 로직(기준)을 좀 알려줘.\n",
    "\n",
    "종속변수(우리가 알고 싶은 결과):\n",
    "- Risk(good, bad)\n",
    "\n",
    "가설: \n",
    "=> 각각의 컬럼들이 -> Risk에 미치는 영향을 파악하면 -> 피처 엔지니어링에 활용 -> 모델링에 활용\n",
    "\n",
    "EDA : 데이터를 보면서 종속 변수에 영향을 미치는 중요한 컬럼들을 발견하기 위해\n",
    "\n",
    "(1) 저축계좌(적금계좌) / 예금계좌가 없거나 적은 사람은 신용에 문제가 있을 가능성이 높다.\n",
    "(2) 대출목적 (TV) 신용에 문제가 있을 것이다."
   ]
  },
  {
   "cell_type": "code",
   "execution_count": null,
   "metadata": {},
   "outputs": [],
   "source": [
    "import pandas as pd #To work with dataset\n",
    "import numpy as np #Math library\n",
    "import seaborn as sns #Graph library that use matplot in background\n",
    "import matplotlib.pyplot as plt #to plot some parameters in seaborn"
   ]
  }
 ],
 "metadata": {
  "kernelspec": {
   "display_name": "base",
   "language": "python",
   "name": "python3"
  },
  "language_info": {
   "name": "python",
   "version": "3.10.9"
  },
  "orig_nbformat": 4
 },
 "nbformat": 4,
 "nbformat_minor": 2
}
