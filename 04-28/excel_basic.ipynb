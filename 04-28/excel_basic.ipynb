{
 "cells": [
  {
   "cell_type": "code",
   "execution_count": null,
   "metadata": {},
   "outputs": [],
   "source": []
  },
  {
   "cell_type": "code",
   "execution_count": null,
   "metadata": {},
   "outputs": [],
   "source": []
  },
  {
   "attachments": {},
   "cell_type": "markdown",
   "metadata": {},
   "source": [
    "# openpyxl \n",
    "\n",
    "- 파이썬은 => library 베이스\n",
    "- 머신러닝은 => pytorch(알고리즘 채워가면된다. )"
   ]
  },
  {
   "cell_type": "code",
   "execution_count": 6,
   "metadata": {},
   "outputs": [
    {
     "name": "stdout",
     "output_type": "stream",
     "text": [
      "Requirement already satisfied: openpyxl in c:\\users\\enter\\miniconda3\\lib\\site-packages (3.1.2)\n",
      "Requirement already satisfied: et-xmlfile in c:\\users\\enter\\miniconda3\\lib\\site-packages (from openpyxl) (1.1.0)\n"
     ]
    }
   ],
   "source": [
    "!pip install openpyxl"
   ]
  },
  {
   "cell_type": "code",
   "execution_count": 1,
   "metadata": {},
   "outputs": [],
   "source": [
    "import openpyxl\n"
   ]
  },
  {
   "cell_type": "code",
   "execution_count": 14,
   "metadata": {},
   "outputs": [],
   "source": [
    "#기본적인 엑셀 파일 생성 \n",
    "\n",
    "\n",
    "from datetime import  datetime\n",
    "\n",
    "workbook = openpyxl.Workbook()\n",
    "worksheet = workbook.active #기본 sheet를 연다. \n",
    "# worksheet = workbook['Sheet1']\n",
    "\n",
    "worksheet.title = 'Info'  #sheet이름\n",
    "worksheet.append(['1','2','3','4','5'])\n",
    "worksheet.append(['1','2','3','4','5'])\n",
    "worksheet.append(['1','2','3','4','5'])\n",
    "worksheet.append(['1','2','3','4','5'])\n",
    "worksheet.append(['1','2','3','4','5'])\n",
    "\n",
    "worksheet.insert_rows(3) #3행에 비어있는 칸을 생성해주세요. \n",
    "\n",
    "worksheet.insert_rows(3)\n",
    "worksheet.insert_rows(3)\n",
    "\n",
    "worksheet.merge_cells('A1:D1')\n",
    "\n",
    "\n",
    "today= datetime.today().strftime('%Y-%m-%d') #2023-04-28\n",
    "\n",
    "workbook.create_sheet('today')\n",
    "\n",
    "\n",
    "workbook.save('./test.xlsx')\n"
   ]
  },
  {
   "cell_type": "markdown",
   "metadata": {},
   "source": []
  },
  {
   "cell_type": "code",
   "execution_count": 23,
   "metadata": {},
   "outputs": [
    {
     "name": "stdout",
     "output_type": "stream",
     "text": [
      "8\n",
      "5\n"
     ]
    }
   ],
   "source": [
    "# 엑셀 데이터 불러오기 \n",
    "\n",
    "wb=openpyxl.load_workbook('./test.xlsx')\n",
    "ws=wb['Info']\n",
    "\n",
    "\n",
    "# 좌표값으로 데이터를 불러오는 법  \n",
    "ws.cell(2,5) #info라는 worksheet로 가서 cell로 접근해  2행 5열로 접근해\n",
    "ws.cell(2,5).value\n",
    "\n",
    "\n",
    "# 고유값으로 데이터를 불러오는 법\n",
    "ws['E2'].value\n",
    "\n",
    "#엑셀데이터 정보를 가져오는 방법 \n",
    " \n",
    "print(ws.max_row)\n",
    "print(ws.max_column)"
   ]
  }
 ],
 "metadata": {
  "kernelspec": {
   "display_name": "base",
   "language": "python",
   "name": "python3"
  },
  "language_info": {
   "codemirror_mode": {
    "name": "ipython",
    "version": 3
   },
   "file_extension": ".py",
   "mimetype": "text/x-python",
   "name": "python",
   "nbconvert_exporter": "python",
   "pygments_lexer": "ipython3",
   "version": "3.10.9"
  },
  "orig_nbformat": 4
 },
 "nbformat": 4,
 "nbformat_minor": 2
}
