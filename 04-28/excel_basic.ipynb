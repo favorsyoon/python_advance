{
 "cells": [
  {
   "cell_type": "code",
   "execution_count": null,
   "metadata": {},
   "outputs": [],
   "source": []
  },
  {
   "cell_type": "code",
   "execution_count": null,
   "metadata": {},
   "outputs": [],
   "source": []
  },
  {
   "attachments": {},
   "cell_type": "markdown",
   "metadata": {},
   "source": [
    "# openpyxl \n",
    "\n",
    "- 파이썬은 => library 베이스\n",
    "- 머신러닝은 => pytorch(알고리즘 채워가면된다. )"
   ]
  },
  {
   "cell_type": "code",
   "execution_count": 6,
   "metadata": {},
   "outputs": [
    {
     "name": "stdout",
     "output_type": "stream",
     "text": [
      "Requirement already satisfied: openpyxl in c:\\users\\enter\\miniconda3\\lib\\site-packages (3.1.2)\n",
      "Requirement already satisfied: et-xmlfile in c:\\users\\enter\\miniconda3\\lib\\site-packages (from openpyxl) (1.1.0)\n"
     ]
    }
   ],
   "source": [
    "!pip install openpyxl"
   ]
  },
  {
   "cell_type": "code",
   "execution_count": 1,
   "metadata": {},
   "outputs": [],
   "source": [
    "import openpyxl\n"
   ]
  },
  {
   "cell_type": "code",
   "execution_count": 14,
   "metadata": {},
   "outputs": [],
   "source": [
    "#기본적인 엑셀 파일 생성 \n",
    "\n",
    "\n",
    "from datetime import  datetime\n",
    "\n",
    "workbook = openpyxl.Workbook()\n",
    "worksheet = workbook.active #기본 sheet를 연다. \n",
    "# worksheet = workbook['Sheet1']\n",
    "\n",
    "worksheet.title = 'Info'  #sheet이름\n",
    "worksheet.append(['1','2','3','4','5'])\n",
    "worksheet.append(['1','2','3','4','5'])\n",
    "worksheet.append(['1','2','3','4','5'])\n",
    "worksheet.append(['1','2','3','4','5'])\n",
    "worksheet.append(['1','2','3','4','5'])\n",
    "\n",
    "worksheet.insert_rows(3) #3행에 비어있는 칸을 생성해주세요. \n",
    "\n",
    "worksheet.insert_rows(3)\n",
    "worksheet.insert_rows(3)\n",
    "\n",
    "worksheet.merge_cells('A1:D1')\n",
    "\n",
    "\n",
    "today= datetime.today().strftime('%Y-%m-%d') #2023-04-28\n",
    "\n",
    "workbook.create_sheet('today')\n",
    "\n",
    "\n",
    "workbook.save('./test.xlsx')\n"
   ]
  },
  {
   "cell_type": "markdown",
   "metadata": {},
   "source": []
  },
  {
   "cell_type": "code",
   "execution_count": 23,
   "metadata": {},
   "outputs": [
    {
     "name": "stdout",
     "output_type": "stream",
     "text": [
      "8\n",
      "5\n"
     ]
    }
   ],
   "source": [
    "# 엑셀 데이터 불러오기 \n",
    "\n",
    "wb=openpyxl.load_workbook('./test.xlsx')\n",
    "ws=wb['Info']\n",
    "\n",
    "\n",
    "# 좌표값으로 데이터를 불러오는 법  \n",
    "ws.cell(2,5) #info라는 worksheet로 가서 cell로 접근해  2행 5열로 접근해\n",
    "ws.cell(2,5).value\n",
    "\n",
    "\n",
    "# 고유값으로 데이터를 불러오는 법\n",
    "ws['E2'].value\n",
    "\n",
    "#엑셀데이터 정보를 가져오는 방법 \n",
    " \n",
    "print(ws.max_row)\n",
    "print(ws.max_column)"
   ]
  },
  {
   "cell_type": "code",
   "execution_count": null,
   "metadata": {},
   "outputs": [],
   "source": [
    "\n",
    "# (4) 셀데이터 변경하는 법 \n",
    "\n",
    "ws['E2'].value = '데이터변경'\n",
    "wb.save('./test.xlsx')"
   ]
  },
  {
   "cell_type": "code",
   "execution_count": 24,
   "metadata": {},
   "outputs": [
    {
     "name": "stdout",
     "output_type": "stream",
     "text": [
      "닭가슴살\n",
      "잡곡밥\n",
      "순두부\n",
      "샐러드\n"
     ]
    }
   ],
   "source": [
    "#1) 엑셀파일을 읽어온다.\n",
    "wb =openpyxl.load_workbook('./final.xlsx')\n",
    "\n",
    "#2) sheet1 에 있는 음식명 데이터를 sheet3으로 옮긴다.\n",
    "ws = wb['Sheet1']\n",
    "\n",
    "\n",
    "#food_name_list =[]\n",
    "\n",
    "for i in range(2,6):\n",
    "    print(ws.cell(i,2).value)\n",
    "\n",
    "# ws.cell(2,2).value\n",
    "# ws.cell(3,2).value\n",
    "# ws.cell(4,2).value\n",
    "# ws.cell(5,2).value\n"
   ]
  },
  {
   "cell_type": "code",
   "execution_count": 28,
   "metadata": {},
   "outputs": [
    {
     "data": {
      "text/plain": [
       "['닭가슴살', '잡곡밥', '순두부', '샐러드']"
      ]
     },
     "execution_count": 28,
     "metadata": {},
     "output_type": "execute_result"
    }
   ],
   "source": [
    "#1) 엑셀파일을 읽어온다.\n",
    "wb =openpyxl.load_workbook('./final.xlsx')\n",
    "\n",
    "#2) sheet1 에 있는 음식명 데이터를 sheet3으로 옮긴다.\n",
    "ws = wb['Sheet1']\n",
    "\n",
    "\n",
    "food_name_list =[]\n",
    "\n",
    "for i in range(2,6):\n",
    "    food_name = ws.cell(i,2).value    \n",
    "    food_name_list.append(food_name)\n",
    "\n",
    "# ws.cell(2,2).value\n",
    "# ws.cell(3,2).value\n",
    "# ws.cell(4,2).value\n",
    "# ws.cell(5,2).value\n",
    "\n",
    "ws4 = wb.create_sheet('음식명')\n",
    "\n",
    "\n",
    "food_name_list"
   ]
  },
  {
   "cell_type": "code",
   "execution_count": 30,
   "metadata": {},
   "outputs": [],
   "source": [
    "#1) 엑셀파일을 읽어온다.\n",
    "wb =openpyxl.load_workbook('./final.xlsx')\n",
    "\n",
    "#2) sheet1 에 있는 음식명 데이터를 sheet3으로 옮긴다.\n",
    "ws = wb['Sheet1']\n",
    "\n",
    "\n",
    "food_name_list =[]\n",
    "\n",
    "for i in range(2,6):\n",
    "    food_name = ws.cell(i,2).value    \n",
    "    food_name_list.append(food_name)\n",
    "\n",
    "# ws.cell(2,2).value\n",
    "# ws.cell(3,2).value\n",
    "# ws.cell(4,2).value\n",
    "# ws.cell(5,2).value\n",
    "\n",
    "#(3) shhet4로 데이터를 넣어준다.\n",
    "ws4 = wb.create_sheet('음식명')\n",
    "\n",
    "custom_num = 1\n",
    "for i in range(4):\n",
    "    # print(i)\n",
    "    ws4['A'+ str(custom_num)] = food_name_list[i]\n",
    "    custom_num+= 1\n",
    "\n",
    "# ws4['A1'] = food_name_list[0]\n",
    "# ws4['A2'] = food_name_list[1]\n",
    "# ws4['A3'] = food_name_list[2]\n",
    "# ws4['A4'] = food_name_list[3]\n",
    "\n",
    "\n",
    "for i in range(4):\n",
    "    # print(i)\n",
    "    ws4['A'+ str(i+1)] = food_name_list[i]    \n",
    "\n",
    "wb.save('./food_final.xlsx')\n",
    "\n",
    "\n",
    "\n",
    "\n",
    "\n",
    "# food_name_list"
   ]
  },
  {
   "attachments": {},
   "cell_type": "markdown",
   "metadata": {},
   "source": [
    "강사님 코드 "
   ]
  },
  {
   "cell_type": "code",
   "execution_count": 31,
   "metadata": {},
   "outputs": [],
   "source": [
    "# (1) 엑셀 파일을 읽어온다.\n",
    "wb = openpyxl.load_workbook(\"./final.xlsx\")\n",
    "\n",
    "# (2) Sheet1에 있는 음식명 데이터를 시트(음식명)로 옮긴다.\n",
    "ws = wb['Sheet1']\n",
    "\n",
    "food_name_list = []\n",
    "\n",
    "for i in range(2,6):\n",
    "    food_name = ws.cell(i,2).value\n",
    "    food_name_list.append(food_name)\n",
    "\n",
    "# (3) Sheet4로 데이터를 넣어준다.\n",
    "ws4 = wb.create_sheet(\"음식명\")\n",
    "\n",
    "for i in range(4):\n",
    "    ws4['A' + str(i+1)] = food_name_list[i]\n",
    "\n",
    "    # ws4['A1'] = food_name_list[0]\n",
    "    # ws4['A2'] = food_name_list[1]\n",
    "    # ws4['A3'] = food_name_list[2]\n",
    "    # ws4['A4'] = food_name_list[3]\n",
    "\n",
    "wb.save(\"./food_final.xlsx\")"
   ]
  },
  {
   "attachments": {},
   "cell_type": "markdown",
   "metadata": {},
   "source": [
    "# 실전예제(1) - 줌 출석체크 자동화 "
   ]
  },
  {
   "cell_type": "code",
   "execution_count": null,
   "metadata": {},
   "outputs": [],
   "source": [
    "# Q. 참가시간을 기준으로 출결 여부를 체크하는 자동화 프로그램을 만드시오.\n",
    "\n",
    "# (1) 조건\n",
    "## - 45분 이상 참석자 출석\n",
    "## - 15분 이상 참석자 지각\n",
    "## - 그 외 모두 결석\n",
    "\n",
    "# (2) 새로운 엑셀 파일에 저장을 하시오. 파일명: zoom_result.xlsx\n",
    "#단, datetime모듈로 오늘 날짜를 위와 같은 포맷으로 저장하시오 \n",
    " \n",
    "# divide\n",
    "#(1) 참가한 사람들의 참가 시간 데이터를 전부 불러온다. C2~C30\n",
    "#(2) 불러온 데이터 값을 위의 조건에 따라 분류한다.\n",
    "#(3) 분류한 조건값(출석,지각,결석)을 E열에 입력한다."
   ]
  },
  {
   "cell_type": "code",
   "execution_count": null,
   "metadata": {},
   "outputs": [],
   "source": [
    "import openpyxl\n",
    "from datetime import datetime\n",
    "\n",
    "zoom_path = \"./zoom.xlsx\"\n",
    "today = datetime.today().strftime(\"%Y-%m-%d\") # 2023-04-28\n",
    "final_path = today + \"_zoom.xlsx\"\n",
    "\n",
    "wb = openpyxl.load_workbook(zoom_path)\n",
    "\n",
    "ws = wb.active\n",
    "\n",
    "# c2~c30까지의 데이터를 가져온다.\n",
    "for i in range(2, 31):\n",
    "    time = int(ws['C' + str(i)].value) # 줌에 참석한 시간 데이터\n",
    "\n",
    "    attendance = \"\" # 출결여부\n",
    "    if time >= 45: \n",
    "        attendance = \"출석\"\n",
    "    elif time >= 15:\n",
    "        attendance = \"지각\"\n",
    "    else:\n",
    "        attendance = \"결석\"\n",
    "\n",
    "    ws[\"E\" + str(i)] = attendance\n",
    "\n",
    "wb.save(final_path)\n",
    "wb.close()"
   ]
  }
 ],
 "metadata": {
  "kernelspec": {
   "display_name": "base",
   "language": "python",
   "name": "python3"
  },
  "language_info": {
   "codemirror_mode": {
    "name": "ipython",
    "version": 3
   },
   "file_extension": ".py",
   "mimetype": "text/x-python",
   "name": "python",
   "nbconvert_exporter": "python",
   "pygments_lexer": "ipython3",
   "version": "3.10.9"
  },
  "orig_nbformat": 4
 },
 "nbformat": 4,
 "nbformat_minor": 2
}
