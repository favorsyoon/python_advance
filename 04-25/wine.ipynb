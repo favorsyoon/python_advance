{
 "cells": [
  {
   "cell_type": "code",
   "execution_count": null,
   "metadata": {},
   "outputs": [],
   "source": [
    "import pandas as pd\n",
    "import numpy as np\n",
    "\n"
   ]
  },
  {
   "attachments": {},
   "cell_type": "markdown",
   "metadata": {},
   "source": [
    "연습문제 1: 와인 데이터셋을 불러와 데이터프레임으로 만들어보세요."
   ]
  },
  {
   "cell_type": "code",
   "execution_count": null,
   "metadata": {},
   "outputs": [],
   "source": [
    "import os\n",
    "path = os.getcwd()\n",
    "print(path)\n",
    "\n",
    "#절대경로\n",
    "#상대경로\n",
    "\n",
    "\n",
    "df = pd.read_csv('./winequality.csv')\n",
    "df"
   ]
  },
  {
   "attachments": {},
   "cell_type": "markdown",
   "metadata": {},
   "source": [
    "연습문제 2: 기술통계 정보를 출력해보세요."
   ]
  },
  {
   "cell_type": "code",
   "execution_count": null,
   "metadata": {},
   "outputs": [],
   "source": [
    "df.describe()"
   ]
  },
  {
   "attachments": {},
   "cell_type": "markdown",
   "metadata": {},
   "source": [
    "연습문제 12: 'alcohol' 열이 가장 높은 5개 데이터의 'quality' 열 값을 출력하세요."
   ]
  },
  {
   "cell_type": "code",
   "execution_count": null,
   "metadata": {},
   "outputs": [],
   "source": [
    "new_df = df.sort_values('alcohol', ascending=False).head() #내림차순했을 때 상위 5개 \n",
    "new_df = df.sort_values('alcohol').tail() #오름차순 일 때의 하위 5개\n",
    "\n",
    "new_df['quality']"
   ]
  },
  {
   "attachments": {},
   "cell_type": "markdown",
   "metadata": {},
   "source": [
    "연습문제 13: 'chlorides' 열의 값이 가장 높은 데이터 10개의 'pH' 열 값을 출력하세요."
   ]
  },
  {
   "cell_type": "code",
   "execution_count": null,
   "metadata": {},
   "outputs": [],
   "source": [
    "top_10_chlorides_pH = df.sort_values('chlorides', ascending=True).head(10)['pH']\n",
    "top_10_chlorides_pH \n",
    "#head() 괄호안에 인트를 넣으면된다. \n"
   ]
  },
  {
   "attachments": {},
   "cell_type": "markdown",
   "metadata": {},
   "source": [
    "연습문제 14: 'sulphates' 열의 값이 0.4 이하인 데이터의 'quality' 열 값을 1로 변경하세요."
   ]
  },
  {
   "cell_type": "code",
   "execution_count": null,
   "metadata": {},
   "outputs": [],
   "source": [
    "df['sulphates'] <=0.4"
   ]
  },
  {
   "cell_type": "code",
   "execution_count": null,
   "metadata": {},
   "outputs": [],
   "source": [
    "df[df['sulphates'] <=0.4]"
   ]
  },
  {
   "cell_type": "code",
   "execution_count": null,
   "metadata": {},
   "outputs": [],
   "source": [
    "df[df['sulphates'] <=0.4]['quality'] \n",
    "\n"
   ]
  },
  {
   "cell_type": "code",
   "execution_count": null,
   "metadata": {},
   "outputs": [],
   "source": [
    "df.loc[row_indexer, column_indexer]"
   ]
  },
  {
   "attachments": {},
   "cell_type": "markdown",
   "metadata": {},
   "source": [
    "<p style=\"font-size:14px;\"> \n",
    "df.loc[]는 판다스 데이터프레임에서 \n",
    "특정 위치의 값을 선택하거나 변경하는 메소드입니다.\n",
    "</p>\n",
    "<p style=\"font-size:14px;\"> \n",
    ".loc 메소드는 다음과 같은 구조를 가집니다.\n",
    "df.loc[row_indexer, column_indexer]\n",
    "</p>\n",
    "<p style=\"font-size:14px;\">\n",
    "여기서 row_indexer는 행 인덱스를 선택하는 방법이고, column_indexer는 열 인덱스를 선택하는 방법입니다. \n",
    "row_indexer와 column_indexer는 각각 슬라이싱, 리스트, 불리언 인덱싱 등으로 선택할 수 있습니다.\n",
    " </p>\n",
    "<p style=\"font-size:14px;\"> </p>\n",
    "<p style=\"font-size:14px;\">\n",
    "df.loc[row_indexer, column_indexer]는 \n",
    "row_indexer와 column_indexer에 해당하는 위치의 값을 선택합니다. \n",
    "이후, 선택한 값을 변경하거나 새로운 값을 할당할 수 있습니다.\n",
    " </p>\n",
    "<p style=\"font-size:14px;\"> \n",
    "예를 들어, 다음과 같은 코드는 df 데이터프레임에서 인덱스가 0인 행과 column1 열의 값을 선택합니다.\n",
    "</p>\n",
    "<p style=\"font-size:14px;\"> \n",
    "df.loc[0, 'column1']\n",
    "</p>\n",
    "<p style=\"font-size:14px;\"> \n",
    "이후, 선택한 값을 변경하거나 새로운 값을 할당할 수 있습니다.\n",
    "\n",
    "</p>\n",
    "<p style=\"font-size:14px;\"> </p>\n",
    "<p style=\"font-size:14px;\"> \n",
    "df.loc[0, 'column1'] = 100\n",
    "</p>\n",
    "<p style=\"font-size:14px;\"> \n",
    "위 코드는 df 데이터프레임에서 인덱스가 0인 행과 column1 열의 값을 100으로 변경합니다.\n",
    "\n",
    "</p>\n",
    "<p style=\"font-size:14px;\"> </p>"
   ]
  },
  {
   "cell_type": "code",
   "execution_count": null,
   "metadata": {},
   "outputs": [],
   "source": [
    "df[df['sulphates'] <=0.4]['quality']  = 1\n",
    "\n",
    "df['sulphates'] <= 0.4 # 인덱싱할 수 있조건이다.\n",
    "\n",
    "\n",
    "#loc 는 값이다. 인덱스 값! True인 인덱스 값만 인식을 한다.\n",
    "#df['sulphates'] <=0.4 그래서 이 조건을 넣으면 내가 원하는 True인 값들만 인덱스값만 조건이 된다.\n",
    "\n",
    "# df.loc[인덱스할 수 있는 조건 ,'컬럼명']\n",
    "\n",
    " "
   ]
  },
  {
   "attachments": {},
   "cell_type": "markdown",
   "metadata": {},
   "source": [
    "### 방법 1"
   ]
  },
  {
   "cell_type": "code",
   "execution_count": null,
   "metadata": {},
   "outputs": [],
   "source": [
    " df.loc[df['sulphates'] <= 0.4, 'quality'] = 1\n",
    "\n"
   ]
  },
  {
   "attachments": {},
   "cell_type": "markdown",
   "metadata": {},
   "source": [
    "연습문제 15: 'fixed acidity' 열의 값이 7 이하인 데이터의 'quality' 열 값을 0으로, 8 이상인 데이터의 'quality' 열 값을 2로 변경하세요. 나머지 데이터는 변경하지 않습니다."
   ]
  },
  {
   "cell_type": "code",
   "execution_count": null,
   "metadata": {},
   "outputs": [],
   "source": [
    "fixed_acidity_under_7 = df['fixed acidity'] <= 7\n",
    "\n",
    "df[fixed_acidity_under_7] = 0\n",
    "\n",
    "fixed_acidity_over_8  = df['fixed acidity'] >= 8\n",
    "\n",
    "df[fixed_acidity_over_8] =2\n",
    "\n",
    "df"
   ]
  },
  {
   "cell_type": "code",
   "execution_count": null,
   "metadata": {},
   "outputs": [],
   "source": [
    "fixed_acidity_under_7 = df['fixed acidity'] <= 7\n",
    "fixed_acidity_under_7_is_0 = fixed_acidity_under_7.loc[:, 'quality'] = 0 #quality 컬럼 값을 0으로 변경\n",
    "\n",
    "fixed_acidity_under_7_is_0"
   ]
  },
  {
   "cell_type": "code",
   "execution_count": null,
   "metadata": {},
   "outputs": [],
   "source": [
    "fixed_acidity_under_7 = df['fixed acidity'] <= 7\n",
    "df.loc[fixed_acidity_under_7, 'quality'] = 0\n",
    "\n",
    "fixed_acidity_over_8 = df['fixed acidity'] >= 8\n",
    "df.loc[fixed_acidity_over_8, 'quality'] = 2\n",
    "\n",
    "df"
   ]
  },
  {
   "attachments": {},
   "cell_type": "markdown",
   "metadata": {},
   "source": [
    "연습문제 16: 'quality' 열의 값이 0인 데이터 중 'fixed acidity' 열의 값을 7로 변경하세요."
   ]
  },
  {
   "cell_type": "code",
   "execution_count": null,
   "metadata": {},
   "outputs": [],
   "source": [
    "df.loc[df['quality'] == 0, 'fixed acidity'] = 7\n",
    "\n",
    "df"
   ]
  }
 ],
 "metadata": {
  "kernelspec": {
   "display_name": "base",
   "language": "python",
   "name": "python3"
  },
  "language_info": {
   "codemirror_mode": {
    "name": "ipython",
    "version": 3
   },
   "file_extension": ".py",
   "mimetype": "text/x-python",
   "name": "python",
   "nbconvert_exporter": "python",
   "pygments_lexer": "ipython3",
   "version": "3.10.9"
  },
  "orig_nbformat": 4
 },
 "nbformat": 4,
 "nbformat_minor": 2
}
