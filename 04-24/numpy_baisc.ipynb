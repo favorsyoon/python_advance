{
 "cells": [
  {
   "attachments": {},
   "cell_type": "markdown",
   "metadata": {},
   "source": [
    "## Numpy"
   ]
  },
  {
   "cell_type": "code",
   "execution_count": 1,
   "metadata": {},
   "outputs": [
    {
     "name": "stdout",
     "output_type": "stream",
     "text": [
      "Requirement already satisfied: numpy in /opt/homebrew/lib/python3.10/site-packages (1.24.1)\n",
      "\n",
      "\u001b[1m[\u001b[0m\u001b[34;49mnotice\u001b[0m\u001b[1;39;49m]\u001b[0m\u001b[39;49m A new release of pip is available: \u001b[0m\u001b[31;49m23.0\u001b[0m\u001b[39;49m -> \u001b[0m\u001b[32;49m23.1\u001b[0m\n",
      "\u001b[1m[\u001b[0m\u001b[34;49mnotice\u001b[0m\u001b[1;39;49m]\u001b[0m\u001b[39;49m To update, run: \u001b[0m\u001b[32;49mpython3.10 -m pip install --upgrade pip\u001b[0m\n",
      "Note: you may need to restart the kernel to use updated packages.\n"
     ]
    }
   ],
   "source": [
    "pip install numpy"
   ]
  },
  {
   "cell_type": "code",
   "execution_count": 3,
   "metadata": {},
   "outputs": [],
   "source": [
    "import numpy as np"
   ]
  },
  {
   "attachments": {},
   "cell_type": "markdown",
   "metadata": {},
   "source": [
    "### Numpy - 기초"
   ]
  },
  {
   "cell_type": "code",
   "execution_count": 17,
   "metadata": {},
   "outputs": [
    {
     "data": {
      "text/plain": [
       "dtype('float64')"
      ]
     },
     "execution_count": 17,
     "metadata": {},
     "output_type": "execute_result"
    }
   ],
   "source": [
    "arr1 = np.array([1.0, 2.0, 3]) # 1차원 배열\n",
    "\n",
    "arr1\n",
    "arr1.shape # (3,)\n",
    "\n",
    "arr1.dtype"
   ]
  },
  {
   "cell_type": "code",
   "execution_count": 11,
   "metadata": {},
   "outputs": [
    {
     "data": {
      "text/plain": [
       "2"
      ]
     },
     "execution_count": 11,
     "metadata": {},
     "output_type": "execute_result"
    }
   ],
   "source": [
    "arr2 = np.array([[1,2,3], [1,2,3]]) # 2차원 배열\n",
    "\n",
    "arr2\n",
    "arr2.shape # (2,3) => 2행 3열인 2차원 배열이다.\n",
    "arr2.ndim # 2 => 2차원"
   ]
  },
  {
   "cell_type": "code",
   "execution_count": 21,
   "metadata": {},
   "outputs": [
    {
     "data": {
      "text/plain": [
       "(1, 1, 3)"
      ]
     },
     "execution_count": 21,
     "metadata": {},
     "output_type": "execute_result"
    }
   ],
   "source": [
    "list3 = [ [ [1,2,3] ] ] # list\n",
    "\n",
    "arr3 = np.array(list3) # nparray\n",
    "\n",
    "arr3\n",
    "arr3.ndim # 3 => 3차원\n",
    "arr3.dtype\n",
    "arr3.shape # (1,1,3)\n",
    "\n",
    "# 컴퓨터는 => 0과 1만 이해할 수 있다. -> 나중에 데이터도 숫자형 데이터로 바꿔주셔야 합니다."
   ]
  },
  {
   "cell_type": "code",
   "execution_count": 22,
   "metadata": {},
   "outputs": [
    {
     "data": {
      "text/plain": [
       "array(['1', '2', 'c'], dtype='<U21')"
      ]
     },
     "execution_count": 22,
     "metadata": {},
     "output_type": "execute_result"
    }
   ],
   "source": [
    "list2 = [1, 2, 'c']\n",
    "\n",
    "arr4 = np.array(list2)\n",
    "arr4"
   ]
  },
  {
   "cell_type": "code",
   "execution_count": 26,
   "metadata": {},
   "outputs": [
    {
     "data": {
      "text/plain": [
       "dtype('float64')"
      ]
     },
     "execution_count": 26,
     "metadata": {},
     "output_type": "execute_result"
    }
   ],
   "source": [
    "arr = np.array([\"1\", \"2\", \"3\", \"4\", \"5\"])\n",
    "arr.dtype\n",
    "\n",
    "# final_arr = arr.astype(np.int64)\n",
    "# final_arr = arr.astype('int64')\n",
    "final_arr = arr.astype('float')\n",
    "final_arr.dtype"
   ]
  },
  {
   "attachments": {},
   "cell_type": "markdown",
   "metadata": {},
   "source": [
    "### ndarray\n",
    "- arange\n",
    "- zeros\n",
    "- ones"
   ]
  },
  {
   "cell_type": "code",
   "execution_count": 31,
   "metadata": {},
   "outputs": [
    {
     "data": {
      "text/plain": [
       "array([6, 7, 8, 9])"
      ]
     },
     "execution_count": 31,
     "metadata": {},
     "output_type": "execute_result"
    }
   ],
   "source": [
    "# arange()\n",
    "arr = np.arange(10)\n",
    "\n",
    "# slicing\n",
    "arr[0:6]\n",
    "\n",
    "# indexing\n",
    "arr[-1]\n",
    "\n",
    "arr[arr > 5]"
   ]
  },
  {
   "cell_type": "code",
   "execution_count": 33,
   "metadata": {},
   "outputs": [
    {
     "name": "stdout",
     "output_type": "stream",
     "text": [
      "[[0 0]\n",
      " [0 0]\n",
      " [0 0]] 2 int32 (3, 2)\n"
     ]
    }
   ],
   "source": [
    "# zeors\n",
    "arr = np.zeros((3,2), dtype='int32')\n",
    "\n",
    "print(arr, arr.ndim, arr.dtype, arr.shape)"
   ]
  },
  {
   "cell_type": "code",
   "execution_count": 36,
   "metadata": {},
   "outputs": [
    {
     "data": {
      "text/plain": [
       "array([[1, 1, 1, 1, 1, 1, 1, 1, 1, 1],\n",
       "       [1, 1, 1, 1, 1, 1, 1, 1, 1, 1],\n",
       "       [1, 1, 1, 1, 1, 1, 1, 1, 1, 1],\n",
       "       [1, 1, 1, 1, 1, 1, 1, 1, 1, 1],\n",
       "       [1, 1, 1, 1, 1, 1, 1, 1, 1, 1],\n",
       "       [1, 1, 1, 1, 1, 1, 1, 1, 1, 1],\n",
       "       [1, 1, 1, 1, 1, 1, 1, 1, 1, 1],\n",
       "       [1, 1, 1, 1, 1, 1, 1, 1, 1, 1],\n",
       "       [1, 1, 1, 1, 1, 1, 1, 1, 1, 1],\n",
       "       [1, 1, 1, 1, 1, 1, 1, 1, 1, 1]])"
      ]
     },
     "execution_count": 36,
     "metadata": {},
     "output_type": "execute_result"
    }
   ],
   "source": [
    "# ones\n",
    "np.ones((10,10), dtype='int')"
   ]
  },
  {
   "attachments": {},
   "cell_type": "markdown",
   "metadata": {},
   "source": [
    "### reshape() - 차원과 크기 변경"
   ]
  },
  {
   "cell_type": "code",
   "execution_count": 44,
   "metadata": {},
   "outputs": [
    {
     "name": "stdout",
     "output_type": "stream",
     "text": [
      "[0 1 2 3 4 5 6 7 8 9]\n",
      "[[0 1 2 3 4]\n",
      " [5 6 7 8 9]]\n",
      "[[0 1]\n",
      " [2 3]\n",
      " [4 5]\n",
      " [6 7]\n",
      " [8 9]]\n",
      "[0 1 2 3 4 5 6 7 8 9]\n"
     ]
    }
   ],
   "source": [
    "arr1 = np.arange(10)\n",
    "print(arr1)\n",
    "\n",
    "arr2 = arr1.reshape(2,5) # 2행 5열\n",
    "print(arr2)\n",
    "\n",
    "arr3 = arr1.reshape(5,2) # 5행 2열\n",
    "print(arr3)\n",
    "\n",
    "# cannot reshape array of size 10 into shape (3,4)\n",
    "# arr4 = arr1.reshape(3,4) # 3행 4열 => 12개\n",
    "# arr4\n",
    "\n",
    "arr2 = arr1.reshape(-1,) # 2행 5열\n",
    "print(arr2)"
   ]
  },
  {
   "cell_type": "code",
   "execution_count": 46,
   "metadata": {},
   "outputs": [
    {
     "data": {
      "text/plain": [
       "array([[0, 1, 2, 3],\n",
       "       [4, 5, 6, 7]])"
      ]
     },
     "execution_count": 46,
     "metadata": {},
     "output_type": "execute_result"
    }
   ],
   "source": [
    "arr = np.arange(8)\n",
    "arr\n",
    "\n",
    "arr2 = arr.reshape(-1,4)\n",
    "arr2"
   ]
  },
  {
   "cell_type": "code",
   "execution_count": 47,
   "metadata": {},
   "outputs": [
    {
     "name": "stdout",
     "output_type": "stream",
     "text": [
      "[0 1 2 3 4 5 6 7 8 9]\n",
      "[[0 1 2 3 4]\n",
      " [5 6 7 8 9]]\n",
      "(2, 5)\n",
      "[[0 1]\n",
      " [2 3]\n",
      " [4 5]\n",
      " [6 7]\n",
      " [8 9]]\n",
      "(5, 2)\n"
     ]
    },
    {
     "data": {
      "text/plain": [
       "array([[0, 1, 2, 3, 4],\n",
       "       [5, 6, 7, 8, 9]])"
      ]
     },
     "execution_count": 47,
     "metadata": {},
     "output_type": "execute_result"
    }
   ],
   "source": [
    "array1 = np.arange(10)\n",
    "print(array1)\n",
    "\n",
    "array2 = array1.reshape(-1, 5) # 5열에 맞춰서 -> 행을 만들어줘 (알아서)\n",
    "print(array2)\n",
    "print(array2.shape)\n",
    "\n",
    "array3 = array1.reshape(5, -1) # 5행에 맞춰서 -> 열을 만들어줘\n",
    "print(array3)\n",
    "print(array3.shape)\n",
    "\n",
    "array4 = array1.reshape(2, -1) # 2행에 맞춰서 -> 열을 만들어줘\n",
    "array4"
   ]
  },
  {
   "attachments": {},
   "cell_type": "markdown",
   "metadata": {},
   "source": [
    "### 인덱싱, 슬라이싱"
   ]
  },
  {
   "cell_type": "code",
   "execution_count": 48,
   "metadata": {},
   "outputs": [
    {
     "data": {
      "text/plain": [
       "array([1, 2, 3, 4, 5, 6, 7, 8, 9])"
      ]
     },
     "execution_count": 48,
     "metadata": {},
     "output_type": "execute_result"
    }
   ],
   "source": [
    "arr = np.arange(1,10)\n",
    "\n",
    "arr[0]\n",
    "arr[0:5]\n",
    "arr[:]"
   ]
  },
  {
   "cell_type": "code",
   "execution_count": 64,
   "metadata": {},
   "outputs": [
    {
     "name": "stdout",
     "output_type": "stream",
     "text": [
      "[[1 2 3]\n",
      " [4 5 6]\n",
      " [7 8 9]]\n"
     ]
    },
    {
     "data": {
      "text/plain": [
       "array([[1],\n",
       "       [4]])"
      ]
     },
     "execution_count": 64,
     "metadata": {},
     "output_type": "execute_result"
    }
   ],
   "source": [
    "arr = np.arange(1,10)\n",
    "\n",
    "arr2 = arr.reshape(3,3)\n",
    "print(arr2)\n",
    "\n",
    "arr2[1, 1] # 5\n",
    "arr2[2,2] # 9\n",
    "\n",
    "# arr2[0, 0:3] # [1,2,3]\n",
    "arr2[1, 0:3] # [4,5,6]\n",
    "\n",
    "# [3,6,9]\n",
    "arr2[:, 2]\n",
    "\n",
    "# [[1]\n",
    "#  [4]]\n",
    "\n",
    "arr3 = arr2[:2, :1]\n",
    "arr3"
   ]
  },
  {
   "attachments": {},
   "cell_type": "markdown",
   "metadata": {},
   "source": [
    "- boolean indexing"
   ]
  },
  {
   "cell_type": "code",
   "execution_count": 72,
   "metadata": {},
   "outputs": [
    {
     "data": {
      "text/plain": [
       "array([6, 7, 8, 9])"
      ]
     },
     "execution_count": 72,
     "metadata": {},
     "output_type": "execute_result"
    }
   ],
   "source": [
    "arr = np.arange(1, 10)\n",
    "arr[arr > 5]"
   ]
  },
  {
   "attachments": {},
   "cell_type": "markdown",
   "metadata": {},
   "source": [
    "### sort()\n",
    "- 정렬"
   ]
  },
  {
   "cell_type": "code",
   "execution_count": 76,
   "metadata": {},
   "outputs": [
    {
     "data": {
      "text/plain": [
       "array([100,  30,  10,   5,   1])"
      ]
     },
     "execution_count": 76,
     "metadata": {},
     "output_type": "execute_result"
    }
   ],
   "source": [
    "arr = np.array([10, 30, 5, 1, 100])\n",
    "\n",
    "# 오름차순\n",
    "arr_sorted = np.sort(arr)\n",
    "arr_sorted\n",
    "\n",
    "# 내림차순\n",
    "arr_sorted[::-1]"
   ]
  },
  {
   "cell_type": "code",
   "execution_count": 77,
   "metadata": {},
   "outputs": [
    {
     "data": {
      "text/plain": [
       "array(['china', 'kor', 'usa'], dtype='<U5')"
      ]
     },
     "execution_count": 77,
     "metadata": {},
     "output_type": "execute_result"
    }
   ],
   "source": [
    "arr_countries = np.array([\"kor\", \"usa\", \"china\"])\n",
    "\n",
    "arr_sorted = np.sort(arr_countries)\n",
    "arr_sorted"
   ]
  },
  {
   "attachments": {},
   "cell_type": "markdown",
   "metadata": {},
   "source": [
    "### 행렬의 연산"
   ]
  },
  {
   "cell_type": "code",
   "execution_count": 82,
   "metadata": {},
   "outputs": [
    {
     "name": "stdout",
     "output_type": "stream",
     "text": [
      "[[1 2]\n",
      " [3 4]]\n",
      "[[5 6]\n",
      " [7 8]]\n",
      "[[ 5 12]\n",
      " [21 32]]\n",
      "[[19 22]\n",
      " [43 50]]\n"
     ]
    }
   ],
   "source": [
    "arr1 = np.array([[1,2], [3,4]])\n",
    "arr2 = np.array([[5,6], [7,8]])\n",
    "\n",
    "print(arr1)\n",
    "print(arr2)\n",
    "\n",
    "arr_add = np.add(arr1, arr2)\n",
    "arr_add\n",
    "\n",
    "arr_mul = np.multiply(arr1, arr2) # 단순 곱셈한 값\n",
    "print(arr_mul)\n",
    "\n",
    "arr_dot = np.dot(arr1, arr2)\n",
    "print(arr_dot)"
   ]
  },
  {
   "cell_type": "code",
   "execution_count": 88,
   "metadata": {},
   "outputs": [
    {
     "name": "stdout",
     "output_type": "stream",
     "text": [
      "[[1 2 3]\n",
      " [4 5 6]\n",
      " [7 8 9]]\n"
     ]
    },
    {
     "data": {
      "text/plain": [
       "array([2., 5., 8.])"
      ]
     },
     "execution_count": 88,
     "metadata": {},
     "output_type": "execute_result"
    }
   ],
   "source": [
    "# Q1. 2차원 배열에서 행렬의 각 행의 평균을 계산하는 코드를 작성하세요.\n",
    "\n",
    "arr = np.array([[1,2,3], [4,5,6], [7,8,9]])\n",
    "print(arr)\n",
    "# axis=0(행), axis=1 (열), axis=2 (채널)\n",
    "row_means = np.mean(arr, axis=0)\n",
    "row_means = np.mean(arr, axis=1)\n",
    "row_means"
   ]
  },
  {
   "cell_type": "code",
   "execution_count": 93,
   "metadata": {},
   "outputs": [
    {
     "data": {
      "text/plain": [
       "array([1, 3, 5])"
      ]
     },
     "execution_count": 93,
     "metadata": {},
     "output_type": "execute_result"
    }
   ],
   "source": [
    "# Q2. 1차원 배열에서 짝수 인덱스의 값을 출력하는 코드를 작성하세요.\n",
    "# 짝수값을 출력을 한다. / 해당 값들의 인덱스 값을 가져온다.\n",
    "\n",
    "arr = np.array([1, 2, 3, 4, 5, 6])\n",
    "\n",
    "even_indexes = np.arange(0, arr.size, 2)\n",
    "even_indexes\n",
    "\n",
    "arr[even_indexes]\n"
   ]
  },
  {
   "cell_type": "code",
   "execution_count": 96,
   "metadata": {},
   "outputs": [
    {
     "name": "stdout",
     "output_type": "stream",
     "text": [
      "[[1 2 3]\n",
      " [4 5 6]\n",
      " [7 8 9]]\n",
      "[1 5 9]\n"
     ]
    }
   ],
   "source": [
    "# Q3. 2차원 배열의 주 대각선 상에 있는 원소들을 출력하는 코드를 작성하세요.\n",
    "\n",
    "arr = np.array([[1, 2, 3], [4, 5, 6], [7, 8, 9]])\n",
    "print(arr)\n",
    "\n",
    "print(np.diag(arr)) # diag: diagonal 줄임말"
   ]
  },
  {
   "cell_type": "code",
   "execution_count": 108,
   "metadata": {},
   "outputs": [
    {
     "name": "stdout",
     "output_type": "stream",
     "text": [
      "[[1 2 3]\n",
      " [4 5 6]\n",
      " [7 8 9]]\n",
      "(3, 3)\n"
     ]
    },
    {
     "data": {
      "text/plain": [
       "array([0.81649658, 0.81649658, 0.81649658])"
      ]
     },
     "execution_count": 108,
     "metadata": {},
     "output_type": "execute_result"
    }
   ],
   "source": [
    "# Q4. 2차원 배열 표준 편차를 계산하는 코드를 작성하세요.\n",
    "# 표준 편차 => np.std()\n",
    "\n",
    "arr = np.array([[1, 2, 3], [4, 5, 6], [7, 8, 9]])\n",
    "print(arr)\n",
    "print(arr.shape)\n",
    "\n",
    "np.std(arr) # 전체 표준편차\n",
    "np.std(arr, axis=0) # 행의 표준편차\n",
    "np.std(arr, axis=1) # 열의 표준편차"
   ]
  },
  {
   "cell_type": "code",
   "execution_count": null,
   "metadata": {},
   "outputs": [
    {
     "data": {
      "text/plain": [
       "array([4, 6, 3, 7, 2, 0, 5, 1])"
      ]
     },
     "execution_count": 6,
     "metadata": {},
     "output_type": "execute_result"
    }
   ],
   "source": [
    "# Q5. 1차원 배열에서 원소들의 순위를 계산하는 코드를 작성하세요.\n",
    "# - argsort()\n",
    "\n",
    "import numpy as np\n",
    "\n",
    "arr = np.array([3, 1, 4, 1, 5, 9, 2, 6])\n",
    "# 1차원 배열 arr을 생성하고, 값을 지정합니다.\n",
    "\n",
    "ranks = np.argsort(np.argsort(-arr))\n",
    "# np.argsort() 함수를 사용하여, 배열의 값들을 오름차순으로 정렬했을 때의 인덱스를 반환합니다. \n",
    "# 이후에 - 연산자를 사용하여 내림차순으로 정렬했을 때의 인덱스를 구합니다. \n",
    "# 마지막으로 다시 np.argsort() 함수를 사용하여 내림차순으로 정렬된 인덱스를 오름차순으로 정렬하여, 각 원소들의 순위를 계산합니다.\n",
    "\n",
    "\n",
    "\n",
    "\n",
    "ranks"
   ]
  },
  {
   "cell_type": "code",
   "execution_count": 11,
   "metadata": {},
   "outputs": [
    {
     "name": "stdout",
     "output_type": "stream",
     "text": [
      "[[1 2 3]\n",
      " [4 5 6]\n",
      " [7 8 9]]\n"
     ]
    },
    {
     "data": {
      "text/plain": [
       "array([2, 2, 2])"
      ]
     },
     "execution_count": 11,
     "metadata": {},
     "output_type": "execute_result"
    }
   ],
   "source": [
    "# Q6. 2차원 배열에서 각 행의 최대값과 그 인덱스를 출력하는 코드를 작성하세요.\n",
    "\n",
    "arr = np.array([[1, 2, 3], [4, 5, 6], [7, 8, 9]])\n",
    "print(arr)\n",
    "\n",
    "row_max = np.amax(arr, axis=1)\n",
    "row_max\n",
    "\n",
    "row_argmax = np.argmax(arr, axis=1)\n",
    "row_argmax"
   ]
  },
  {
   "cell_type": "code",
   "execution_count": 13,
   "metadata": {},
   "outputs": [
    {
     "data": {
      "text/plain": [
       "3.0"
      ]
     },
     "execution_count": 13,
     "metadata": {},
     "output_type": "execute_result"
    }
   ],
   "source": [
    "# Q7. 1차원 배열에서 중앙값을 계산하는 코드를 작성하세요.\n",
    "# - median()\n",
    "arr = np.array([1, 2, 3, 4, 5])\n",
    "\n",
    "median = np.median(arr)\n",
    "median"
   ]
  },
  {
   "cell_type": "code",
   "execution_count": 15,
   "metadata": {},
   "outputs": [
    {
     "name": "stdout",
     "output_type": "stream",
     "text": [
      "[[1 2 3]\n",
      " [4 1 6]\n",
      " [7 8 2]]\n"
     ]
    },
    {
     "data": {
      "text/plain": [
       "array([1, 1, 2])"
      ]
     },
     "execution_count": 15,
     "metadata": {},
     "output_type": "execute_result"
    }
   ],
   "source": [
    "# 2차원 배열에서 각 열의 최소값과 그 인덱스를 출력하는 코드를 작성하세요.\n",
    "\n",
    "arr = np.array([[1, 2, 3], [4, 1, 6], [7, 8, 2]])\n",
    "print(arr)\n",
    "\n",
    "col_min = np.amin(arr, axis=0)\n",
    "col_min"
   ]
  },
  {
   "cell_type": "code",
   "execution_count": 20,
   "metadata": {},
   "outputs": [
    {
     "name": "stdout",
     "output_type": "stream",
     "text": [
      "[1 4 6 3 9 2 7 8]\n"
     ]
    },
    {
     "data": {
      "text/plain": [
       "array([6, 9, 7, 8])"
      ]
     },
     "execution_count": 20,
     "metadata": {},
     "output_type": "execute_result"
    }
   ],
   "source": [
    "# Q8. 1차원 배열에서 원소의 값이 5 이상인 것들만 출력하는 코드를 작성하세요.\n",
    "\n",
    "arr = np.array([1, 4, 6, 3, 9, 2, 7, 8])\n",
    "print(arr)\n",
    "\n",
    "arr[arr >= 5]"
   ]
  },
  {
   "cell_type": "code",
   "execution_count": 22,
   "metadata": {},
   "outputs": [
    {
     "name": "stdout",
     "output_type": "stream",
     "text": [
      "[[ 2  4  6]\n",
      " [ 8 10 12]\n",
      " [14 16 18]]\n"
     ]
    }
   ],
   "source": [
    "# Q9. 2차원 배열에서 모든 원소의 값을 2배로 만드는 코드를 작성하세요.\n",
    "\n",
    "arr = np.array([[1, 2, 3], [4, 5, 6], [7, 8, 9]])\n",
    "new_arr = arr * 2\n",
    "\n",
    "print(new_arr)"
   ]
  },
  {
   "cell_type": "code",
   "execution_count": 26,
   "metadata": {},
   "outputs": [
    {
     "name": "stdout",
     "output_type": "stream",
     "text": [
      "[1 3 5 2 4 6 3 5 7]\n"
     ]
    },
    {
     "name": "stdout",
     "output_type": "stream",
     "text": [
      "\u001b[0;31mDocstring:\u001b[0m\n",
      "where(condition, [x, y], /)\n",
      "\n",
      "Return elements chosen from `x` or `y` depending on `condition`.\n",
      "\n",
      ".. note::\n",
      "    When only `condition` is provided, this function is a shorthand for\n",
      "    ``np.asarray(condition).nonzero()``. Using `nonzero` directly should be\n",
      "    preferred, as it behaves correctly for subclasses. The rest of this\n",
      "    documentation covers only the case where all three arguments are\n",
      "    provided.\n",
      "\n",
      "Parameters\n",
      "----------\n",
      "condition : array_like, bool\n",
      "    Where True, yield `x`, otherwise yield `y`.\n",
      "x, y : array_like\n",
      "    Values from which to choose. `x`, `y` and `condition` need to be\n",
      "    broadcastable to some shape.\n",
      "\n",
      "Returns\n",
      "-------\n",
      "out : ndarray\n",
      "    An array with elements from `x` where `condition` is True, and elements\n",
      "    from `y` elsewhere.\n",
      "\n",
      "See Also\n",
      "--------\n",
      "choose\n",
      "nonzero : The function that is called when x and y are omitted\n",
      "\n",
      "Notes\n",
      "-----\n",
      "If all the arrays are 1-D, `where` is equivalent to::\n",
      "\n",
      "    [xv if c else yv\n",
      "     for c, xv, yv in zip(condition, x, y)]\n",
      "\n",
      "Examples\n",
      "--------\n",
      ">>> a = np.arange(10)\n",
      ">>> a\n",
      "array([0, 1, 2, 3, 4, 5, 6, 7, 8, 9])\n",
      ">>> np.where(a < 5, a, 10*a)\n",
      "array([ 0,  1,  2,  3,  4, 50, 60, 70, 80, 90])\n",
      "\n",
      "This can be used on multidimensional arrays too:\n",
      "\n",
      ">>> np.where([[True, False], [True, True]],\n",
      "...          [[1, 2], [3, 4]],\n",
      "...          [[9, 8], [7, 6]])\n",
      "array([[1, 8],\n",
      "       [3, 4]])\n",
      "\n",
      "The shapes of x, y, and the condition are broadcast together:\n",
      "\n",
      ">>> x, y = np.ogrid[:3, :4]\n",
      ">>> np.where(x < y, x, 10 + y)  # both x and 10+y are broadcast\n",
      "array([[10,  0,  0,  0],\n",
      "       [10, 11,  1,  1],\n",
      "       [10, 11, 12,  2]])\n",
      "\n",
      ">>> a = np.array([[0, 1, 2],\n",
      "...               [0, 2, 4],\n",
      "...               [0, 3, 6]])\n",
      ">>> np.where(a < 4, a, -1)  # -1 is broadcast\n",
      "array([[ 0,  1,  2],\n",
      "       [ 0,  2, -1],\n",
      "       [ 0,  3, -1]])\n",
      "\u001b[0;31mType:\u001b[0m      function"
     ]
    }
   ],
   "source": [
    "# Q10. 1차원 배열에서 원소의 값이 3 또는 5인 것들의 인덱스를 출력하는 코드를 작성하세요.\n",
    "\n",
    "arr = np.array([1, 3, 5, 2, 4, 6, 3, 5, 7])\n",
    "print(arr)\n",
    "\n",
    "# 조건: 원소의 값이 3 또는 5인 것 + 해당 값의 인덱스를 출력\n",
    "\n",
    "np.where((arr==3) | (arr==5))\n",
    "\n",
    "np.where?"
   ]
  },
  {
   "cell_type": "code",
   "execution_count": 30,
   "metadata": {},
   "outputs": [
    {
     "name": "stdout",
     "output_type": "stream",
     "text": [
      "[[3 2 1]\n",
      " [6 5 4]\n",
      " [9 8 7]]\n",
      "[[3 2 1]\n",
      " [6 5 4]\n",
      " [9 8 7]]\n",
      "[[1 2 3]\n",
      " [4 5 6]\n",
      " [7 8 9]]\n"
     ]
    },
    {
     "name": "stdout",
     "output_type": "stream",
     "text": [
      "\u001b[0;31mSignature:\u001b[0m \u001b[0mnp\u001b[0m\u001b[0;34m.\u001b[0m\u001b[0msort\u001b[0m\u001b[0;34m(\u001b[0m\u001b[0ma\u001b[0m\u001b[0;34m,\u001b[0m \u001b[0maxis\u001b[0m\u001b[0;34m=\u001b[0m\u001b[0;34m-\u001b[0m\u001b[0;36m1\u001b[0m\u001b[0;34m,\u001b[0m \u001b[0mkind\u001b[0m\u001b[0;34m=\u001b[0m\u001b[0;32mNone\u001b[0m\u001b[0;34m,\u001b[0m \u001b[0morder\u001b[0m\u001b[0;34m=\u001b[0m\u001b[0;32mNone\u001b[0m\u001b[0;34m)\u001b[0m\u001b[0;34m\u001b[0m\u001b[0;34m\u001b[0m\u001b[0m\n",
      "\u001b[0;31mDocstring:\u001b[0m\n",
      "Return a sorted copy of an array.\n",
      "\n",
      "Parameters\n",
      "----------\n",
      "a : array_like\n",
      "    Array to be sorted.\n",
      "axis : int or None, optional\n",
      "    Axis along which to sort. If None, the array is flattened before\n",
      "    sorting. The default is -1, which sorts along the last axis.\n",
      "kind : {'quicksort', 'mergesort', 'heapsort', 'stable'}, optional\n",
      "    Sorting algorithm. The default is 'quicksort'. Note that both 'stable'\n",
      "    and 'mergesort' use timsort or radix sort under the covers and, in general,\n",
      "    the actual implementation will vary with data type. The 'mergesort' option\n",
      "    is retained for backwards compatibility.\n",
      "\n",
      "    .. versionchanged:: 1.15.0.\n",
      "       The 'stable' option was added.\n",
      "\n",
      "order : str or list of str, optional\n",
      "    When `a` is an array with fields defined, this argument specifies\n",
      "    which fields to compare first, second, etc.  A single field can\n",
      "    be specified as a string, and not all fields need be specified,\n",
      "    but unspecified fields will still be used, in the order in which\n",
      "    they come up in the dtype, to break ties.\n",
      "\n",
      "Returns\n",
      "-------\n",
      "sorted_array : ndarray\n",
      "    Array of the same type and shape as `a`.\n",
      "\n",
      "See Also\n",
      "--------\n",
      "ndarray.sort : Method to sort an array in-place.\n",
      "argsort : Indirect sort.\n",
      "lexsort : Indirect stable sort on multiple keys.\n",
      "searchsorted : Find elements in a sorted array.\n",
      "partition : Partial sort.\n",
      "\n",
      "Notes\n",
      "-----\n",
      "The various sorting algorithms are characterized by their average speed,\n",
      "worst case performance, work space size, and whether they are stable. A\n",
      "stable sort keeps items with the same key in the same relative\n",
      "order. The four algorithms implemented in NumPy have the following\n",
      "properties:\n",
      "\n",
      "=========== ======= ============= ============ ========\n",
      "   kind      speed   worst case    work space   stable\n",
      "=========== ======= ============= ============ ========\n",
      "'quicksort'    1     O(n^2)            0          no\n",
      "'heapsort'     3     O(n*log(n))       0          no\n",
      "'mergesort'    2     O(n*log(n))      ~n/2        yes\n",
      "'timsort'      2     O(n*log(n))      ~n/2        yes\n",
      "=========== ======= ============= ============ ========\n",
      "\n",
      ".. note:: The datatype determines which of 'mergesort' or 'timsort'\n",
      "   is actually used, even if 'mergesort' is specified. User selection\n",
      "   at a finer scale is not currently available.\n",
      "\n",
      "All the sort algorithms make temporary copies of the data when\n",
      "sorting along any but the last axis.  Consequently, sorting along\n",
      "the last axis is faster and uses less space than sorting along\n",
      "any other axis.\n",
      "\n",
      "The sort order for complex numbers is lexicographic. If both the real\n",
      "and imaginary parts are non-nan then the order is determined by the\n",
      "real parts except when they are equal, in which case the order is\n",
      "determined by the imaginary parts.\n",
      "\n",
      "Previous to numpy 1.4.0 sorting real and complex arrays containing nan\n",
      "values led to undefined behaviour. In numpy versions >= 1.4.0 nan\n",
      "values are sorted to the end. The extended sort order is:\n",
      "\n",
      "  * Real: [R, nan]\n",
      "  * Complex: [R + Rj, R + nanj, nan + Rj, nan + nanj]\n",
      "\n",
      "where R is a non-nan real value. Complex values with the same nan\n",
      "placements are sorted according to the non-nan part if it exists.\n",
      "Non-nan values are sorted as before.\n",
      "\n",
      ".. versionadded:: 1.12.0\n",
      "\n",
      "quicksort has been changed to `introsort <https://en.wikipedia.org/wiki/Introsort>`_.\n",
      "When sorting does not make enough progress it switches to\n",
      "`heapsort <https://en.wikipedia.org/wiki/Heapsort>`_.\n",
      "This implementation makes quicksort O(n*log(n)) in the worst case.\n",
      "\n",
      "'stable' automatically chooses the best stable sorting algorithm\n",
      "for the data type being sorted.\n",
      "It, along with 'mergesort' is currently mapped to\n",
      "`timsort <https://en.wikipedia.org/wiki/Timsort>`_\n",
      "or `radix sort <https://en.wikipedia.org/wiki/Radix_sort>`_\n",
      "depending on the data type.\n",
      "API forward compatibility currently limits the\n",
      "ability to select the implementation and it is hardwired for the different\n",
      "data types.\n",
      "\n",
      ".. versionadded:: 1.17.0\n",
      "\n",
      "Timsort is added for better performance on already or nearly\n",
      "sorted data. On random data timsort is almost identical to\n",
      "mergesort. It is now used for stable sort while quicksort is still the\n",
      "default sort if none is chosen. For timsort details, refer to\n",
      "`CPython listsort.txt <https://github.com/python/cpython/blob/3.7/Objects/listsort.txt>`_.\n",
      "'mergesort' and 'stable' are mapped to radix sort for integer data types. Radix sort is an\n",
      "O(n) sort instead of O(n log n).\n",
      "\n",
      ".. versionchanged:: 1.18.0\n",
      "\n",
      "NaT now sorts to the end of arrays for consistency with NaN.\n",
      "\n",
      "Examples\n",
      "--------\n",
      ">>> a = np.array([[1,4],[3,1]])\n",
      ">>> np.sort(a)                # sort along the last axis\n",
      "array([[1, 4],\n",
      "       [1, 3]])\n",
      ">>> np.sort(a, axis=None)     # sort the flattened array\n",
      "array([1, 1, 3, 4])\n",
      ">>> np.sort(a, axis=0)        # sort along the first axis\n",
      "array([[1, 1],\n",
      "       [3, 4]])\n",
      "\n",
      "Use the `order` keyword to specify a field to use when sorting a\n",
      "structured array:\n",
      "\n",
      ">>> dtype = [('name', 'S10'), ('height', float), ('age', int)]\n",
      ">>> values = [('Arthur', 1.8, 41), ('Lancelot', 1.9, 38),\n",
      "...           ('Galahad', 1.7, 38)]\n",
      ">>> a = np.array(values, dtype=dtype)       # create a structured array\n",
      ">>> np.sort(a, order='height')                        # doctest: +SKIP\n",
      "array([('Galahad', 1.7, 38), ('Arthur', 1.8, 41),\n",
      "       ('Lancelot', 1.8999999999999999, 38)],\n",
      "      dtype=[('name', '|S10'), ('height', '<f8'), ('age', '<i4')])\n",
      "\n",
      "Sort by age, then height if ages are equal:\n",
      "\n",
      ">>> np.sort(a, order=['age', 'height'])               # doctest: +SKIP\n",
      "array([('Galahad', 1.7, 38), ('Lancelot', 1.8999999999999999, 38),\n",
      "       ('Arthur', 1.8, 41)],\n",
      "      dtype=[('name', '|S10'), ('height', '<f8'), ('age', '<i4')])\n",
      "\u001b[0;31mFile:\u001b[0m      /opt/homebrew/lib/python3.10/site-packages/numpy/core/fromnumeric.py\n",
      "\u001b[0;31mType:\u001b[0m      function"
     ]
    }
   ],
   "source": [
    "# Q11. 2차원 배열에서 행렬의 각 열의 값을 오름차순으로 정렬하는 코드를 작성하세요.\n",
    "\n",
    "arr = np.array([[3, 2, 1], [6, 5, 4], [9, 8, 7]]) # 3x3, 2차원 행렬\n",
    "\n",
    "print(arr)\n",
    "\n",
    "new_arr1 = np.sort(arr, axis=0)\n",
    "print(new_arr1)\n",
    "\n",
    "new_arr2 = np.sort(arr, axis=1) # 행을 기준으로 오름차순 정렬\n",
    "print(new_arr2)\n",
    "\n",
    "np.sort?"
   ]
  },
  {
   "cell_type": "code",
   "execution_count": 33,
   "metadata": {},
   "outputs": [
    {
     "data": {
      "text/plain": [
       "array([1, 2, 3, 4, 5])"
      ]
     },
     "execution_count": 33,
     "metadata": {},
     "output_type": "execute_result"
    }
   ],
   "source": [
    "# Q12. 1차원 배열에서 중복되는 값을 제거하는 코드를 작성하세요.\n",
    "\n",
    "arr = np.array([1, 2, 3, 2, 4, 3, 5])\n",
    "\n",
    "np.s(arr)"
   ]
  },
  {
   "cell_type": "code",
   "execution_count": null,
   "metadata": {},
   "outputs": [],
   "source": []
  }
 ],
 "metadata": {
  "kernelspec": {
   "display_name": "Python 3",
   "language": "python",
   "name": "python3"
  },
  "language_info": {
   "codemirror_mode": {
    "name": "ipython",
    "version": 3
   },
   "file_extension": ".py",
   "mimetype": "text/x-python",
   "name": "python",
   "nbconvert_exporter": "python",
   "pygments_lexer": "ipython3",
   "version": "3.10.9"
  },
  "orig_nbformat": 4,
  "vscode": {
   "interpreter": {
    "hash": "6ecdebf77f2ee3a47348d003f751c63e810ca996c1c68d1179f338200fa83b34"
   }
  }
 },
 "nbformat": 4,
 "nbformat_minor": 2
}
